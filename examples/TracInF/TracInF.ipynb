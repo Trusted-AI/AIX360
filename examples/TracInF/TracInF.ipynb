{
 "cells": [
  {
   "cell_type": "code",
   "execution_count": 5,
   "id": "265507c1",
   "metadata": {
    "collapsed": true
   },
   "outputs": [
    {
     "ename": "ModuleNotFoundError",
     "evalue": "No module named 'aix360'",
     "output_type": "error",
     "traceback": [
      "\u001b[0;31m---------------------------------------------------------------------------\u001b[0m",
      "\u001b[0;31mModuleNotFoundError\u001b[0m                       Traceback (most recent call last)",
      "\u001b[0;32m<ipython-input-5-7df47dc43108>\u001b[0m in \u001b[0;36m<module>\u001b[0;34m\u001b[0m\n\u001b[1;32m      1\u001b[0m \u001b[0;32mimport\u001b[0m \u001b[0mos\u001b[0m\u001b[0;34m\u001b[0m\u001b[0;34m\u001b[0m\u001b[0m\n\u001b[1;32m      2\u001b[0m \u001b[0;34m\u001b[0m\u001b[0m\n\u001b[0;32m----> 3\u001b[0;31m \u001b[0;32mfrom\u001b[0m \u001b[0maix360\u001b[0m\u001b[0;34m.\u001b[0m\u001b[0malgorithms\u001b[0m\u001b[0;34m.\u001b[0m\u001b[0mTracInF\u001b[0m \u001b[0;32mimport\u001b[0m \u001b[0mTracInFExplainer\u001b[0m\u001b[0;34m\u001b[0m\u001b[0;34m\u001b[0m\u001b[0m\n\u001b[0m",
      "\u001b[0;31mModuleNotFoundError\u001b[0m: No module named 'aix360'"
     ]
    }
   ],
   "source": [
    "import os\n",
    "\n",
    "from aix360.algorithms.TracInF import TracInFExplainer\n"
   ]
  },
  {
   "cell_type": "code",
   "execution_count": 6,
   "id": "4c3ebda4",
   "metadata": {
    "collapsed": true
   },
   "outputs": [
    {
     "ename": "NameError",
     "evalue": "name 'TracInFExplainer' is not defined",
     "output_type": "error",
     "traceback": [
      "\u001b[0;31m---------------------------------------------------------------------------\u001b[0m",
      "\u001b[0;31mNameError\u001b[0m                                 Traceback (most recent call last)",
      "\u001b[0;32m<ipython-input-6-2dc710cf152f>\u001b[0m in \u001b[0;36m<module>\u001b[0;34m\u001b[0m\n\u001b[1;32m      7\u001b[0m \u001b[0mepochs\u001b[0m \u001b[0;34m=\u001b[0m \u001b[0;36m20\u001b[0m\u001b[0;34m\u001b[0m\u001b[0;34m\u001b[0m\u001b[0m\n\u001b[1;32m      8\u001b[0m \u001b[0mmodel_output\u001b[0m \u001b[0;34m=\u001b[0m \u001b[0;34m'model_5_train_w_qa.out-otc'\u001b[0m\u001b[0;34m\u001b[0m\u001b[0;34m\u001b[0m\u001b[0m\n\u001b[0;32m----> 9\u001b[0;31m TracInFExplainer.explain_instance(max_seq_length, BERT_name, data_dir, train_data_name, dev_data_name, batch_size,\n\u001b[0m\u001b[1;32m     10\u001b[0m                          epochs, model_output)\n",
      "\u001b[0;31mNameError\u001b[0m: name 'TracInFExplainer' is not defined"
     ]
    }
   ],
   "source": [
    "max_seq_length = 0\n",
    "BERT_name = 'roberta-large'\n",
    "data_dir = '../../aix360/data/'\n",
    "train_data_name = data_dir + 'model_5_train_w_qa.json'\n",
    "dev_data_name = data_dir + 'model_5_val_w_qa.json'\n",
    "batch_size = 512\n",
    "epochs = 20\n",
    "model_output = 'model_5_train_w_qa.out-otc'\n",
    "TracInFExplainer.explain_instance(max_seq_length, BERT_name, data_dir, train_data_name, dev_data_name, batch_size,\n",
    "                         epochs, model_output)"
   ]
  },
  {
   "cell_type": "code",
   "execution_count": null,
   "id": "4aa05380",
   "metadata": {},
   "outputs": [],
   "source": []
  }
 ],
 "metadata": {
  "kernelspec": {
   "display_name": "Python 3",
   "language": "python",
   "name": "python3"
  },
  "language_info": {
   "codemirror_mode": {
    "name": "ipython",
    "version": 3
   },
   "file_extension": ".py",
   "mimetype": "text/x-python",
   "name": "python",
   "nbconvert_exporter": "python",
   "pygments_lexer": "ipython3",
   "version": "3.7.6"
  }
 },
 "nbformat": 4,
 "nbformat_minor": 5
}
