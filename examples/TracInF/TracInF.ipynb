{
 "cells": [
  {
   "cell_type": "code",
   "execution_count": 1,
   "id": "265507c1",
   "metadata": {
    "scrolled": true
   },
   "outputs": [],
   "source": [
    "import sys\n",
    "sys.path.append(\"../../\")"
   ]
  },
  {
   "cell_type": "code",
   "execution_count": 2,
   "id": "61410a6f",
   "metadata": {},
   "outputs": [
    {
     "ename": "ImportError",
     "evalue": "cannot import name 'TracInFExplainer'",
     "output_type": "error",
     "traceback": [
      "\u001b[0;31m---------------------------------------------------------------------------\u001b[0m",
      "\u001b[0;31mImportError\u001b[0m                               Traceback (most recent call last)",
      "\u001b[0;32m<ipython-input-2-92a608c81cbd>\u001b[0m in \u001b[0;36m<module>\u001b[0;34m\u001b[0m\n\u001b[1;32m      1\u001b[0m \u001b[0;32mfrom\u001b[0m \u001b[0maix360\u001b[0m\u001b[0;34m.\u001b[0m\u001b[0malgorithms\u001b[0m\u001b[0;34m.\u001b[0m\u001b[0mlime\u001b[0m \u001b[0;32mimport\u001b[0m \u001b[0mLimeTextExplainer\u001b[0m\u001b[0;34m\u001b[0m\u001b[0;34m\u001b[0m\u001b[0m\n\u001b[0;32m----> 2\u001b[0;31m \u001b[0;32mfrom\u001b[0m \u001b[0maix360\u001b[0m\u001b[0;34m.\u001b[0m\u001b[0malgorithms\u001b[0m\u001b[0;34m.\u001b[0m\u001b[0mTracInF\u001b[0m \u001b[0;32mimport\u001b[0m \u001b[0mTracInFExplainer\u001b[0m\u001b[0;34m\u001b[0m\u001b[0;34m\u001b[0m\u001b[0m\n\u001b[0m",
      "\u001b[0;31mImportError\u001b[0m: cannot import name 'TracInFExplainer'"
     ]
    }
   ],
   "source": [
    "from aix360.algorithms.lime import LimeTextExplainer\n",
    "from aix360.algorithms.TracInF import TracInFExplainer"
   ]
  },
  {
   "cell_type": "code",
   "execution_count": 3,
   "id": "4c3ebda4",
   "metadata": {},
   "outputs": [
    {
     "ename": "NameError",
     "evalue": "name 'TracInFExplainer' is not defined",
     "output_type": "error",
     "traceback": [
      "\u001b[0;31m---------------------------------------------------------------------------\u001b[0m",
      "\u001b[0;31mNameError\u001b[0m                                 Traceback (most recent call last)",
      "\u001b[0;32m<ipython-input-3-2dc710cf152f>\u001b[0m in \u001b[0;36m<module>\u001b[0;34m\u001b[0m\n\u001b[1;32m      7\u001b[0m \u001b[0mepochs\u001b[0m \u001b[0;34m=\u001b[0m \u001b[0;36m20\u001b[0m\u001b[0;34m\u001b[0m\u001b[0;34m\u001b[0m\u001b[0m\n\u001b[1;32m      8\u001b[0m \u001b[0mmodel_output\u001b[0m \u001b[0;34m=\u001b[0m \u001b[0;34m'model_5_train_w_qa.out-otc'\u001b[0m\u001b[0;34m\u001b[0m\u001b[0;34m\u001b[0m\u001b[0m\n\u001b[0;32m----> 9\u001b[0;31m TracInFExplainer.explain_instance(max_seq_length, BERT_name, data_dir, train_data_name, dev_data_name, batch_size,\n\u001b[0m\u001b[1;32m     10\u001b[0m                          epochs, model_output)\n",
      "\u001b[0;31mNameError\u001b[0m: name 'TracInFExplainer' is not defined"
     ]
    }
   ],
   "source": [
    "max_seq_length = 0\n",
    "BERT_name = 'roberta-large'\n",
    "data_dir = '../../aix360/data/'\n",
    "train_data_name = data_dir + 'model_5_train_w_qa.json'\n",
    "dev_data_name = data_dir + 'model_5_val_w_qa.json'\n",
    "batch_size = 512\n",
    "epochs = 20\n",
    "model_output = 'model_5_train_w_qa.out-otc'\n",
    "TracInFExplainer.explain_instance(max_seq_length, BERT_name, data_dir, train_data_name, dev_data_name, batch_size,\n",
    "                         epochs, model_output)"
   ]
  },
  {
   "cell_type": "code",
   "execution_count": null,
   "id": "4aa05380",
   "metadata": {},
   "outputs": [],
   "source": []
  },
  {
   "cell_type": "code",
   "execution_count": null,
   "id": "ce8d4d56",
   "metadata": {},
   "outputs": [],
   "source": []
  }
 ],
 "metadata": {
  "kernelspec": {
   "display_name": "Python 3",
   "language": "python",
   "name": "python3"
  },
  "language_info": {
   "codemirror_mode": {
    "name": "ipython",
    "version": 3
   },
   "file_extension": ".py",
   "mimetype": "text/x-python",
   "name": "python",
   "nbconvert_exporter": "python",
   "pygments_lexer": "ipython3",
   "version": "3.6.13"
  }
 },
 "nbformat": 4,
 "nbformat_minor": 5
}
