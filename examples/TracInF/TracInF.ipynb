{
 "cells": [
  {
   "cell_type": "code",
   "execution_count": null,
   "id": "265507c1",
   "metadata": {
    "scrolled": true
   },
   "outputs": [],
   "source": [
    "import sys\n",
    "sys.path.append(\"../../\")"
   ]
  },
  {
   "cell_type": "code",
   "execution_count": null,
   "id": "61410a6f",
   "metadata": {},
   "outputs": [],
   "source": [
    "# import the algorithm\n",
    "from aix360.algorithms.TracInF import TracInFExplainer"
   ]
  },
  {
   "cell_type": "code",
   "execution_count": null,
   "id": "4c3ebda4",
   "metadata": {},
   "outputs": [],
   "source": [
    "max_seq_length = 128 # max seq length; 128 is default\n",
    "BERT_name = 'roberta-large' # name of the BERT model\n",
    "data_dir = '../../aix360/data/TracInF/' # relative path to where the data is stored\n",
    "train_data_name = data_dir + 'model_5_train_w_qa.json' # name of training data\n",
    "dev_data_name = data_dir + 'model_5_val_w_qa.json' # name of the data used for validation\n",
    "batch_size = 512 # size of the batch used in each epoch\n",
    "epochs = 1 # amount of epochs run during training\n",
    "model_output = 'model_5_train_w_qa.out-otc' # name of the model output\n",
    "\n",
    "# result is accuracy of final model\n",
    "result = TracInFExplainer.explain_instance(max_seq_length, BERT_name, data_dir, train_data_name, dev_data_name, batch_size,\n",
    "                         epochs, model_output)"
   ]
  },
  {
   "cell_type": "code",
   "execution_count": null,
   "id": "4aa05380",
   "metadata": {},
   "outputs": [],
   "source": []
  },
  {
   "cell_type": "code",
   "execution_count": null,
   "id": "ce8d4d56",
   "metadata": {},
   "outputs": [],
   "source": []
  }
 ],
 "metadata": {
  "kernelspec": {
   "display_name": "Python 3",
   "language": "python",
   "name": "python3"
  },
  "language_info": {
   "codemirror_mode": {
    "name": "ipython",
    "version": 3
   },
   "file_extension": ".py",
   "mimetype": "text/x-python",
   "name": "python",
   "nbconvert_exporter": "python",
   "pygments_lexer": "ipython3",
   "version": "3.6.13"
  }
 },
 "nbformat": 4,
 "nbformat_minor": 5
}
